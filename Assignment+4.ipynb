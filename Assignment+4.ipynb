{
 "cells": [
  {
   "cell_type": "code",
   "execution_count": 1,
   "metadata": {
    "collapsed": true
   },
   "outputs": [],
   "source": [
    "import pandas as pd\n",
    "import numpy as np\n",
    "\n",
    "def blight_model():\n",
    "    from sklearn.neural_network import MLPClassifier\n",
    "    from sklearn.preprocessing import MinMaxScaler\n",
    "    from datetime import datetime\n",
    "    def time_gap(hearing_date_str, ticket_issued_date_str):\n",
    "        if not hearing_date_str or type(hearing_date_str)!=str: return 73\n",
    "        hearing_date = datetime.strptime(hearing_date_str, \"%Y-%m-%d %H:%M:%S\")\n",
    "        ticket_issued_date = datetime.strptime(ticket_issued_date_str, \"%Y-%m-%d %H:%M:%S\")\n",
    "        gap = hearing_date - ticket_issued_date\n",
    "        return gap.days\n",
    "    train_data = pd.read_csv('train.csv', encoding = 'ISO-8859-1')\n",
    "    test_data = pd.read_csv('test.csv')\n",
    "    train_data = train_data[(train_data['compliance'] == 0) | (train_data['compliance'] == 1)]\n",
    "    address =  pd.read_csv('addresses.csv')\n",
    "    latlons = pd.read_csv('latlons.csv')\n",
    "    address = address.set_index('address').join(latlons.set_index('address'), how='left')\n",
    "    train_data = train_data.set_index('ticket_id').join(address.set_index('ticket_id'))\n",
    "    test_data = test_data.set_index('ticket_id').join(address.set_index('ticket_id'))\n",
    "    train_data = train_data[~train_data['hearing_date'].isnull()]\n",
    "    train_data['time_gap'] = train_data.apply(lambda row: time_gap(row['hearing_date'], row['ticket_issued_date']), axis=1)\n",
    "    test_data['time_gap'] = test_data.apply(lambda row: time_gap(row['hearing_date'], row['ticket_issued_date']), axis=1)\n",
    "    feature_to_be_splitted = ['agency_name', 'state', 'disposition']\n",
    "    train_data.lat.fillna(method='pad', inplace=True)\n",
    "    train_data.lon.fillna(method='pad', inplace=True)\n",
    "    train_data.state.fillna(method='pad', inplace=True)\n",
    "\n",
    "    test_data.lat.fillna(method='pad', inplace=True)\n",
    "    test_data.lon.fillna(method='pad', inplace=True)\n",
    "    test_data.state.fillna(method='pad', inplace=True)\n",
    "    train_data = pd.get_dummies(train_data, columns=feature_to_be_splitted)\n",
    "    test_data = pd.get_dummies(test_data, columns=feature_to_be_splitted)\n",
    "    list_to_remove_train = [\n",
    "        'balance_due',\n",
    "        'collection_status',\n",
    "        'compliance_detail',\n",
    "        'payment_amount',\n",
    "        'payment_date',\n",
    "        'payment_status'\n",
    "    ]\n",
    "    list_to_remove_all = ['fine_amount', 'violator_name', 'zip_code', 'country', 'city',\n",
    "                          'inspector_name', 'violation_street_number', 'violation_street_name',\n",
    "                          'violation_zip_code', 'violation_description',\n",
    "                          'mailing_address_str_number', 'mailing_address_str_name',\n",
    "                          'non_us_str_code',\n",
    "                          'ticket_issued_date', 'hearing_date', 'grafitti_status', 'violation_code']\n",
    "    train_data.drop(list_to_remove_train, axis=1, inplace=True)\n",
    "    train_data.drop(list_to_remove_all, axis=1, inplace=True)\n",
    "    test_data.drop(list_to_remove_all, axis=1, inplace=True)\n",
    "    train_features = train_data.columns.drop('compliance')\n",
    "    train_features_set = set(train_features)\n",
    "    \n",
    "    for feature in set(train_features):\n",
    "        if feature not in test_data:\n",
    "            train_features_set.remove(feature)\n",
    "    train_features = list(train_features_set)\n",
    "    \n",
    "    X_train = train_data[train_features]\n",
    "    y_train = train_data.compliance\n",
    "    X_test = test_data[train_features]\n",
    "    \n",
    "    scaler = MinMaxScaler()\n",
    "    X_train_scaled = scaler.fit_transform(X_train)\n",
    "    X_test_scaled = scaler.transform(X_test)\n",
    "    \n",
    "    clf = MLPClassifier(hidden_layer_sizes = [100, 10], alpha = 5,\n",
    "                       random_state = 0, solver='lbfgs', verbose=0)\n",
    "    clf = DecisionTreeClassifier()\n",
    "    clf.fit(X_train_scaled, y_train)\n",
    "\n",
    "    test_proba = clf.predict_proba(X_test_scaled)[:,1]\n",
    "\n",
    "    \n",
    "    test_df = pd.read_csv('test.csv', encoding = \"ISO-8859-1\")\n",
    "    test_df['compliance'] = test_proba\n",
    "    test_df.set_index('ticket_id', inplace=True)\n",
    "    \n",
    "    return test_df.compliance"
   ]
  },
  {
   "cell_type": "code",
   "execution_count": null,
   "metadata": {
    "collapsed": true
   },
   "outputs": [],
   "source": [
    "blight_model()"
   ]
  }
 ],
 "metadata": {
  "coursera": {
   "course_slug": "python-machine-learning",
   "graded_item_id": "nNS8l",
   "launcher_item_id": "yWWk7",
   "part_id": "w8BSS"
  },
  "kernelspec": {
   "display_name": "Python 3",
   "language": "python",
   "name": "python3"
  },
  "language_info": {
   "codemirror_mode": {
    "name": "ipython",
    "version": 3
   },
   "file_extension": ".py",
   "mimetype": "text/x-python",
   "name": "python",
   "nbconvert_exporter": "python",
   "pygments_lexer": "ipython3",
   "version": "3.6.2"
  }
 },
 "nbformat": 4,
 "nbformat_minor": 2
}
